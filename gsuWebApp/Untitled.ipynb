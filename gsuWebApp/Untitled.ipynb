{
 "cells": [
  {
   "cell_type": "code",
   "execution_count": 1,
   "metadata": {
    "collapsed": true
   },
   "outputs": [],
   "source": [
    "class FileInformation(object):\n",
    "    fileName = ''\n",
    "    mp4FileName = ''\n",
    "    jpgFileName = ''\n",
    "    jpgFileList = []\n",
    "    slowFileName = ''"
   ]
  },
  {
   "cell_type": "code",
   "execution_count": 35,
   "metadata": {
    "collapsed": true
   },
   "outputs": [],
   "source": [
    "from keras.models import load_model\n",
    "import h5py\n",
    "# returns a compiled model\n",
    "# identical to the previous one\n",
    "model = load_model('/home/ubuntu/Insight/mymodel.h5')"
   ]
  },
  {
   "cell_type": "code",
   "execution_count": 2,
   "metadata": {
    "collapsed": true
   },
   "outputs": [],
   "source": [
    "import Config\n",
    "import os\n",
    "from fileInfo import FileInformation\n",
    "\n",
    "def getImageList(directory, fileName):\n",
    "    dirList = os.listdir(directory)\n",
    "    imageList = []\n",
    "    rImageName = ''\n",
    "\n",
    "    for item in dirList:\n",
    "        if item is not None and (item.lower().find('png') or item.lower().find('jpg')) and item.find(fileName) > -1:\n",
    "            imageList.append(item)\n",
    "            if item.lower().endswith('.jpg'):\n",
    "                rImageName = item\n",
    "\n",
    "    return imageList, rImageName\n",
    "\n",
    "def getmp4List(directory):\n",
    "    dirList = os.listdir(directory)\n",
    "    rList = []\n",
    "    imageList = []\n",
    "    slowList = []\n",
    "    #f = fileInfo\n",
    "\n",
    "\n",
    "    for item in dirList:\n",
    "        if item is not None and item.find('.mp4') > -1:\n",
    "            if not item in rList:\n",
    "                f = FileInformation()\n",
    "                f.jpgFileList,\\\n",
    "                    f.jpgFileName = getImageList(directory + 'FRAMES/', item.replace('.mp4', ''))\n",
    "                f.fileName = item.replace('.mp4', '')\n",
    "                f.mp4FileName = item\n",
    "                if len(imageList) > 0:\n",
    "                    f.jpgFileName = imageList[0]\n",
    "                rList.append(f)\n",
    "\n",
    "    return rList"
   ]
  },
  {
   "cell_type": "code",
   "execution_count": 11,
   "metadata": {
    "collapsed": false
   },
   "outputs": [],
   "source": [
    "videoName = 'balcony_football_violence__British_Football_Hooligans_Mix_1__MorningGlory1997__pn6CNLi3UhA'\n",
    "imageList = []\n",
    "category = ''\n",
    "Npredictions = []\n",
    "Vprediction = []\n",
    "    "
   ]
  },
  {
   "cell_type": "code",
   "execution_count": 60,
   "metadata": {
    "collapsed": false
   },
   "outputs": [
    {
     "name": "stdout",
     "output_type": "stream",
     "text": [
      "balcony_football_violence__British_Football_Hooligans_Mix_1__MorningGlory1997__pn6CNLi3UhA\n",
      "['balcony_football_violence__British_Football_Hooligans_Mix_1__MorningGlory1997__pn6CNLi3UhA3.jpg', 'balcony_football_violence__British_Football_Hooligans_Mix_1__MorningGlory1997__pn6CNLi3UhA1.jpg', 'balcony_football_violence__British_Football_Hooligans_Mix_1__MorningGlory1997__pn6CNLi3UhA2.jpg']\n"
     ]
    }
   ],
   "source": [
    "for item in nonviolentList:\n",
    "    if item.fileName == videoName:\n",
    "        print(item.fileName)\n",
    "        print(item.jpgFileList)\n",
    "        imageList = item.jpgFileList\n",
    "        category = 'nonviolent'\n",
    "        impath = 'static/images/violent/' \n",
    "        "
   ]
  },
  {
   "cell_type": "code",
   "execution_count": 61,
   "metadata": {
    "collapsed": false
   },
   "outputs": [],
   "source": [
    "vidpath = os.path.join(impath,'FRAMES')"
   ]
  },
  {
   "cell_type": "code",
   "execution_count": 62,
   "metadata": {
    "collapsed": false
   },
   "outputs": [
    {
     "data": {
      "text/plain": [
       "'static/images/violent/FRAMES'"
      ]
     },
     "execution_count": 62,
     "metadata": {},
     "output_type": "execute_result"
    }
   ],
   "source": [
    "vidpath"
   ]
  },
  {
   "cell_type": "code",
   "execution_count": 63,
   "metadata": {
    "collapsed": false
   },
   "outputs": [
    {
     "name": "stdout",
     "output_type": "stream",
     "text": [
      "balcony_football_violence__British_Football_Hooligans_Mix_1__MorningGlory1997__pn6CNLi3UhA3.jpg\n",
      "balcony_football_violence__British_Football_Hooligans_Mix_1__MorningGlory1997__pn6CNLi3UhA1.jpg\n",
      "balcony_football_violence__British_Football_Hooligans_Mix_1__MorningGlory1997__pn6CNLi3UhA2.jpg\n"
     ]
    }
   ],
   "source": [
    "for i in imageList:\n",
    "    print(i)"
   ]
  },
  {
   "cell_type": "code",
   "execution_count": 54,
   "metadata": {
    "collapsed": false
   },
   "outputs": [],
   "source": [
    "from PIL import Image\n",
    "import os, os.path"
   ]
  },
  {
   "cell_type": "code",
   "execution_count": 19,
   "metadata": {
    "collapsed": false
   },
   "outputs": [
    {
     "name": "stderr",
     "output_type": "stream",
     "text": [
      "Using TensorFlow backend.\n"
     ]
    }
   ],
   "source": [
    "from keras.models import load_model\n",
    "import h5py\n",
    "from keras.preprocessing import image\n",
    "from keras.applications.imagenet_utils import decode_predictions\n",
    "\n",
    "def preprocess_input(x):\n",
    "    x /= 255.\n",
    "    x -= 0.5\n",
    "    x *= 2.\n",
    "    return x"
   ]
  },
  {
   "cell_type": "code",
   "execution_count": 72,
   "metadata": {
    "collapsed": true
   },
   "outputs": [],
   "source": [
    "for i in imageList:\n",
    "    current_img = image.load_img(os.path.join(vidpath,i), target_size=(299,299))\n",
    "    x = image.img_to_array(current_img)\n",
    "    x = np.expand_dims(x, axis=0)\n",
    "    x = preprocess_input(x)\n",
    "    Npredictions.append(model.predict(x))"
   ]
  },
  {
   "cell_type": "code",
   "execution_count": 73,
   "metadata": {
    "collapsed": false
   },
   "outputs": [
    {
     "data": {
      "text/plain": [
       "[array([[ 0.90577197,  0.094228  ]], dtype=float32),\n",
       " array([[ 0.82444966,  0.17555034]], dtype=float32),\n",
       " array([[ 0.90577197,  0.09422796]], dtype=float32),\n",
       " array([[ 0.94859159,  0.0514084 ]], dtype=float32)]"
      ]
     },
     "execution_count": 73,
     "metadata": {},
     "output_type": "execute_result"
    }
   ],
   "source": [
    "Npredictions"
   ]
  },
  {
   "cell_type": "code",
   "execution_count": 64,
   "metadata": {
    "collapsed": false
   },
   "outputs": [],
   "source": [
    "current_img = image.load_img(os.path.join(vidpath,imageList[1]), target_size=(299, 299))"
   ]
  },
  {
   "cell_type": "code",
   "execution_count": 71,
   "metadata": {
    "collapsed": false
   },
   "outputs": [
    {
     "name": "stdout",
     "output_type": "stream",
     "text": [
      "balcony_football_violence__British_Football_Hooligans_Mix_1__MorningGlory1997__pn6CNLi3UhA3.jpg\n",
      "balcony_football_violence__British_Football_Hooligans_Mix_1__MorningGlory1997__pn6CNLi3UhA1.jpg\n",
      "balcony_football_violence__British_Football_Hooligans_Mix_1__MorningGlory1997__pn6CNLi3UhA2.jpg\n"
     ]
    }
   ],
   "source": [
    "for i in imageList:\n",
    "    print(i)"
   ]
  },
  {
   "cell_type": "code",
   "execution_count": 70,
   "metadata": {
    "collapsed": false
   },
   "outputs": [
    {
     "data": {
      "text/plain": [
       "('balcony_football_violence__British_Football_Hooligans_Mix_1__MorningGlory1997__pn6CNLi3UhA2.jpg',\n",
       " ['balcony_football_violence__British_Football_Hooligans_Mix_1__MorningGlory1997__pn6CNLi3UhA3.jpg',\n",
       "  'balcony_football_violence__British_Football_Hooligans_Mix_1__MorningGlory1997__pn6CNLi3UhA1.jpg',\n",
       "  'balcony_football_violence__British_Football_Hooligans_Mix_1__MorningGlory1997__pn6CNLi3UhA2.jpg'])"
      ]
     },
     "execution_count": 70,
     "metadata": {},
     "output_type": "execute_result"
    }
   ],
   "source": [
    "c, imageList"
   ]
  },
  {
   "cell_type": "code",
   "execution_count": 36,
   "metadata": {
    "collapsed": false
   },
   "outputs": [],
   "source": [
    "x = image.img_to_array(current_img)\n",
    "import numpy as np\n",
    "x = np.expand_dims(x, axis=0)\n",
    "x = preprocess_input(x)\n",
    "Npredictions.append(model.predict(x))"
   ]
  },
  {
   "cell_type": "code",
   "execution_count": 37,
   "metadata": {
    "collapsed": false
   },
   "outputs": [
    {
     "data": {
      "text/plain": [
       "[array([[ 0.90577197,  0.094228  ]], dtype=float32)]"
      ]
     },
     "execution_count": 37,
     "metadata": {},
     "output_type": "execute_result"
    }
   ],
   "source": [
    "Npredictions"
   ]
  },
  {
   "cell_type": "code",
   "execution_count": null,
   "metadata": {
    "collapsed": true
   },
   "outputs": [],
   "source": []
  }
 ],
 "metadata": {
  "hide_input": false,
  "kernelspec": {
   "display_name": "Python 3",
   "language": "python",
   "name": "python3"
  },
  "language_info": {
   "codemirror_mode": {
    "name": "ipython",
    "version": 3
   },
   "file_extension": ".py",
   "mimetype": "text/x-python",
   "name": "python",
   "nbconvert_exporter": "python",
   "pygments_lexer": "ipython3",
   "version": "3.4.3"
  }
 },
 "nbformat": 4,
 "nbformat_minor": 2
}
